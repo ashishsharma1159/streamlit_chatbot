{
 "cells": [
  {
   "cell_type": "code",
   "execution_count": 2,
   "id": "425196e4-c866-4e03-af69-2ab72b15b57a",
   "metadata": {},
   "outputs": [
    {
     "name": "stdout",
     "output_type": "stream",
     "text": [
      "Requirement already satisfied: groq in /opt/homebrew/anaconda3/lib/python3.12/site-packages (0.20.0)\n",
      "Requirement already satisfied: anyio<5,>=3.5.0 in /opt/homebrew/anaconda3/lib/python3.12/site-packages (from groq) (4.2.0)\n",
      "Requirement already satisfied: distro<2,>=1.7.0 in /opt/homebrew/anaconda3/lib/python3.12/site-packages (from groq) (1.9.0)\n",
      "Requirement already satisfied: httpx<1,>=0.23.0 in /opt/homebrew/anaconda3/lib/python3.12/site-packages (from groq) (0.27.0)\n",
      "Requirement already satisfied: pydantic<3,>=1.9.0 in /opt/homebrew/anaconda3/lib/python3.12/site-packages (from groq) (2.8.2)\n",
      "Requirement already satisfied: sniffio in /opt/homebrew/anaconda3/lib/python3.12/site-packages (from groq) (1.3.0)\n",
      "Requirement already satisfied: typing-extensions<5,>=4.10 in /opt/homebrew/anaconda3/lib/python3.12/site-packages (from groq) (4.11.0)\n",
      "Requirement already satisfied: idna>=2.8 in /opt/homebrew/anaconda3/lib/python3.12/site-packages (from anyio<5,>=3.5.0->groq) (3.7)\n",
      "Requirement already satisfied: certifi in /opt/homebrew/anaconda3/lib/python3.12/site-packages (from httpx<1,>=0.23.0->groq) (2024.12.14)\n",
      "Requirement already satisfied: httpcore==1.* in /opt/homebrew/anaconda3/lib/python3.12/site-packages (from httpx<1,>=0.23.0->groq) (1.0.2)\n",
      "Requirement already satisfied: h11<0.15,>=0.13 in /opt/homebrew/anaconda3/lib/python3.12/site-packages (from httpcore==1.*->httpx<1,>=0.23.0->groq) (0.14.0)\n",
      "Requirement already satisfied: annotated-types>=0.4.0 in /opt/homebrew/anaconda3/lib/python3.12/site-packages (from pydantic<3,>=1.9.0->groq) (0.6.0)\n",
      "Requirement already satisfied: pydantic-core==2.20.1 in /opt/homebrew/anaconda3/lib/python3.12/site-packages (from pydantic<3,>=1.9.0->groq) (2.20.1)\n",
      "Note: you may need to restart the kernel to use updated packages.\n"
     ]
    }
   ],
   "source": [
    "pip install groq"
   ]
  },
  {
   "cell_type": "code",
   "execution_count": 4,
   "id": "6a6d560d-48b1-49c4-9313-f8009e70ef29",
   "metadata": {},
   "outputs": [],
   "source": [
    "from llama_index.core import SimpleDirectoryReader\n"
   ]
  },
  {
   "cell_type": "code",
   "execution_count": 6,
   "id": "52de3c51-a254-4612-b1b9-13b30f5dbcfa",
   "metadata": {},
   "outputs": [],
   "source": [
    "base_folder = \"./docs\"\n",
    "reader=SimpleDirectoryReader(base_folder, recursive=True, exclude_hidden=True)"
   ]
  },
  {
   "cell_type": "code",
   "execution_count": 8,
   "id": "e059c1af-02fa-4951-a9e9-bba95fcba77b",
   "metadata": {},
   "outputs": [
    {
     "data": {
      "text/plain": [
       "[PosixPath('/Users/ashishsharma/pbl/docs/dream_data.json'),\n",
       " PosixPath('/Users/ashishsharma/pbl/docs/dreams_interpretations.csv')]"
      ]
     },
     "execution_count": 8,
     "metadata": {},
     "output_type": "execute_result"
    }
   ],
   "source": [
    "reader.input_files"
   ]
  },
  {
   "cell_type": "code",
   "execution_count": 10,
   "id": "b472dda8-655e-40f3-905e-97328665da5c",
   "metadata": {},
   "outputs": [],
   "source": [
    "docs=reader.load_data()"
   ]
  },
  {
   "cell_type": "code",
   "execution_count": null,
   "id": "37030886-d350-420b-96fc-8d2d8d00e2ef",
   "metadata": {},
   "outputs": [],
   "source": []
  },
  {
   "cell_type": "code",
   "execution_count": 13,
   "id": "42644184-22f9-4f55-88c6-8c5392e49fbe",
   "metadata": {},
   "outputs": [
    {
     "data": {
      "text/plain": [
       "2"
      ]
     },
     "execution_count": 13,
     "metadata": {},
     "output_type": "execute_result"
    }
   ],
   "source": [
    "len(docs)"
   ]
  },
  {
   "cell_type": "code",
   "execution_count": 15,
   "id": "a404c873-fa60-4541-b866-c63c9c81f9f5",
   "metadata": {},
   "outputs": [],
   "source": [
    "from llama_index.core.node_parser import SentenceSplitter\n",
    "\n",
    "node_parser = SentenceSplitter(chunk_size=200, chunk_overlap=0)"
   ]
  },
  {
   "cell_type": "code",
   "execution_count": 17,
   "id": "5795d171-39fc-4143-b992-0782a5e352c3",
   "metadata": {},
   "outputs": [],
   "source": [
    "nodes = node_parser.get_nodes_from_documents(docs,show_progess=True)"
   ]
  },
  {
   "cell_type": "code",
   "execution_count": 18,
   "id": "23cc6284-e153-4323-b58c-9312b8bb6d54",
   "metadata": {},
   "outputs": [
    {
     "data": {
      "text/plain": [
       "1218"
      ]
     },
     "execution_count": 18,
     "metadata": {},
     "output_type": "execute_result"
    }
   ],
   "source": [
    "len(nodes)"
   ]
  },
  {
   "cell_type": "code",
   "execution_count": 19,
   "id": "220aac92-bd10-43eb-93b8-40c3c9ca5b37",
   "metadata": {},
   "outputs": [
    {
     "name": "stdout",
     "output_type": "stream",
     "text": [
      "File exists: True\n"
     ]
    }
   ],
   "source": [
    "import os\n",
    "import pandas as pd\n",
    "import json\n",
    "\n",
    "df = pd.read_csv(\"/Users/ashishsharma/Desktop/dreams_interpretations.csv\")\n",
    "dream_data = df.to_dict(orient=\"records\")\n",
    "\n",
    "with open(\"dream_data.json\", \"w\") as f:\n",
    "    json.dump(dream_data, f, indent=4)\n",
    "    print(\"File exists:\", os.path.exists(\"dream_data.json\"))\n",
    "\n"
   ]
  },
  {
   "cell_type": "code",
   "execution_count": null,
   "id": "199a2472-5997-4718-a9f4-deb0fe5aaf21",
   "metadata": {},
   "outputs": [],
   "source": []
  },
  {
   "cell_type": "code",
   "execution_count": 24,
   "id": "0398b8cb-4175-4dab-b168-2631f73caaba",
   "metadata": {},
   "outputs": [
    {
     "name": "stdout",
     "output_type": "stream",
     "text": [
      "Groq API Key exists: True\n"
     ]
    }
   ],
   "source": [
    "import os\n",
    "from groq import Groq\n",
    "# with open(\"./groq_api_key.txt\", \"r\") as f:\n",
    "groq_api_key = \"53c8d2b7-3c0d-460a-9106-1b45b4ed41cf\"  \n",
    "llm = Groq(api_key=groq_api_key)\n",
    "\n",
    "print(\"Groq API Key exists:\", bool(groq_api_key))\n"
   ]
  },
  {
   "cell_type": "code",
   "execution_count": 26,
   "id": "8fa6efc1-3407-47d0-a72f-c9f89e419264",
   "metadata": {},
   "outputs": [],
   "source": [
    "from llama_index.core import VectorStoreIndex"
   ]
  },
  {
   "cell_type": "code",
   "execution_count": 28,
   "id": "3a35a0a7-0870-4127-8e00-ed52c09f51ac",
   "metadata": {},
   "outputs": [
    {
     "name": "stdout",
     "output_type": "stream",
     "text": [
      "✅ JSON file loaded successfully!\n"
     ]
    }
   ],
   "source": [
    "import json\n",
    "\n",
    "file_path = \"docs/dream_data.json\"  # Update path to include the docs folder\n",
    "\n",
    "with open(file_path, \"r\") as f:\n",
    "    dream_data = json.load(f)\n",
    "\n",
    "print(\"✅ JSON file loaded successfully!\")\n",
    "\n",
    "\n"
   ]
  },
  {
   "cell_type": "code",
   "execution_count": 30,
   "id": "364eabe5-e188-4405-b97c-e91f3912fa2c",
   "metadata": {},
   "outputs": [],
   "source": [
    "!rm -rf ./storage"
   ]
  },
  {
   "cell_type": "code",
   "execution_count": 32,
   "id": "048bb48e-4071-4381-b49a-42a0a7678060",
   "metadata": {},
   "outputs": [],
   "source": [
    "index_dir = \"./storage\""
   ]
  },
  {
   "cell_type": "code",
   "execution_count": null,
   "id": "db28728e-3348-4dc6-bb95-139ca75c76bf",
   "metadata": {},
   "outputs": [
    {
     "name": "stdout",
     "output_type": "stream",
     "text": [
      "Groq API Key exists: True\n"
     ]
    },
    {
     "name": "stdin",
     "output_type": "stream",
     "text": [
      "\n",
      "What did you dream about? (or type 'exit' to quit):  abortion\n"
     ]
    },
    {
     "name": "stdout",
     "output_type": "stream",
     "text": [
      "\n",
      "💭 **Unraveling the Symbolism of Abortion in Your Dreams**\n",
      "\n",
      "Dreaming of having an abortion can be a jarring and emotionally charged experience, but it's essential to delve deeper into the symbolism behind this vision to uncover the hidden messages your subconscious is trying to convey. This dream is not just about the act itself, but rather a reflection of your inner struggles, fears, and aspirations.\n",
      "\n",
      "**Self-Sabotage and Fear of Change**\n",
      "\n",
      "On a deeper level, an abortion in your dream may indicate that you're unconsciously hindering your own growth and progress. You might be hesitant to embark on a new path in life due to fear of the unknown, pressure from others, or internal conflict. This dream serves as a wake-up call, urging you to confront and overcome these obstacles that are holding you back from realizing your full potential.\n",
      "\n",
      "**Unresolved Trauma and Self-Acceptance**\n",
      "\n",
      "For those who have experienced an abortion in real life, this dream can be a manifestation of unresolved emotions and a desire for healing. Your subconscious is processing the trauma, and the dream is a way for your mind to work through the complex emotions associated with this event. This dream can be a step towards self-acceptance, forgiveness, and ultimately, closure.\n",
      "\n",
      "**A Call to Prioritize Your Well-being**\n",
      "\n",
      "Alternatively, the abortion dream can be a message from your subconscious to take care of your physical and emotional health. It may serve as a warning sign to pay attention to any underlying health issues or neglect that may be affecting your overall well-being. This dream can be a gentle nudge to prioritize self-care, listen to your body, and make positive lifestyle changes.\n",
      "\n",
      "**Unlocking the Hidden Meaning**\n",
      "\n",
      "To further understand the significance of this dream, consider the following questions:\n",
      "\n",
      "* What aspects of your life are you feeling stuck or uncertain about?\n",
      "* Are there any areas where you're feeling pressured or conflicted?\n",
      "* How can you take better care of your physical and emotional health?\n",
      "* What steps can you take to overcome your fears and pursue your goals with confidence?\n",
      "\n",
      "By reflecting on these questions and exploring the symbolism behind your dream, you can gain a deeper understanding of your subconscious mind and unlock the secrets to personal growth, healing, and self-acceptance.\n"
     ]
    },
    {
     "name": "stdin",
     "output_type": "stream",
     "text": [
      "\n",
      "What did you dream about? (or type 'exit' to quit):  i did mastrubation\n"
     ]
    },
    {
     "name": "stdout",
     "output_type": "stream",
     "text": [
      "\n",
      "💭 Don't worry! That's what I'm here for. Please describe the dream symbol you're trying to interpret, and I'll do my best to help you understand its meaning.\n",
      "\n",
      "What did you see in your dream? Was it an object, a person, a place, or an event? The more details you can provide, the better I'll be able to assist you in unraveling its symbolic significance.\n",
      "\n",
      "Remember, dreams are personal and subjective, so even if we can't find a direct match in a database, we can still explore the emotions, sensations, and associations you experienced during the dream to uncover its hidden meaning.\n"
     ]
    },
    {
     "name": "stdin",
     "output_type": "stream",
     "text": [
      "\n",
      "What did you dream about? (or type 'exit' to quit):  i saw my mom\n"
     ]
    },
    {
     "name": "stdout",
     "output_type": "stream",
     "text": [
      "\n",
      "💭 Don't worry! That's where I come in. Let's dive into the unknown together. Please describe the dream symbol you couldn't find, and I'll do my best to help you uncover its hidden meaning.\n",
      "\n",
      "Was it an object, a person, a place, or an action that stood out in your dream? The more details you provide, the better I can assist you in deciphering its significance.\n",
      "\n",
      "Remember, dreams are personal and subjective, so even if we can't find a specific symbol in a database, we can still explore its possible meaning based on your associations and emotions.\n",
      "\n",
      "Let's get started!\n"
     ]
    },
    {
     "name": "stdin",
     "output_type": "stream",
     "text": [
      "\n",
      "What did you dream about? (or type 'exit' to quit):  gambling\n"
     ]
    },
    {
     "name": "stdout",
     "output_type": "stream",
     "text": [
      "\n",
      "💭 The thrill of the gamble! In the realm of dreams, rolling the dice or placing a bet can reveal more about your waking life than you might think. Let's dive deeper into the symbolism of gambling in your dream.\n",
      "\n",
      "**Impulsive Nature**: When you dream of gambling, it may indicate that you're being overly impulsive in your waking life. You might be making decisions without fully thinking them through, leaving things to chance, or relying too heavily on fate to guide your path. This dream serves as a reminder to take a step back, reflect on your choices, and consider the potential consequences of your actions.\n",
      "\n",
      "**Lack of Accountability**: The dream could also suggest that you're not taking responsibility for your decisions or actions. You might be blaming fate or external circumstances for your circumstances, rather than acknowledging your own role in shaping your reality. This dream encourages you to own up to your mistakes, learn from them, and make amends when necessary.\n",
      "\n",
      "**Risk-Taking and Adventure**: On the other hand, gambling in your dream can symbolize a desire for excitement, adventure, and a willingness to take calculated risks. You might be feeling stuck in a rut or craving a sense of thrill and uncertainty in your life. This dream could be nudging you to step out of your comfort zone, explore new opportunities, and challenge yourself to grow.\n",
      "\n",
      "**Hidden Fears and Anxieties**: In some cases, dreaming of gambling can also represent hidden fears or anxieties about losing control or making a wrong decision. You might be worried about the outcome of a particular situation or feeling overwhelmed by the pressure to make a choice. This dream invites you to confront and address these fears, rather than letting them hold you back.\n",
      "\n",
      "**Personal Reflection**: Take a moment to reflect on your own relationship with risk and responsibility. Are there areas in your life where you're being too impulsive or reckless? Are you avoiding accountability or blaming others for your circumstances? Or perhaps you're feeling stagnant and need to inject some excitement and adventure into your life? By examining your dream and its underlying themes, you can gain a deeper understanding of yourself and make positive changes to achieve a more balanced and fulfilling life.\n"
     ]
    }
   ],
   "source": [
    "import os\n",
    "import json\n",
    "from groq import Groq\n",
    "\n",
    "# Initialize Groq API\n",
    "groq_api_key = \"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\"  # Make sure this is secure in production\n",
    "llm = Groq(api_key=groq_api_key)  # Correct API initialization\n",
    "\n",
    "print(\"Groq API Key exists:\", bool(groq_api_key))\n",
    "\n",
    "# Load dream interpretation data\n",
    "with open(\"docs/dream_data.json\", \"r\") as f:\n",
    "    dream_data = json.load(f)\n",
    "\n",
    "def interpret_dream(user_input):\n",
    "    for entry in dream_data:\n",
    "        if user_input.lower() == entry[\"Dream Symbol\"].lower():\n",
    "            raw_interpretation = entry[\"Interpretation\"]\n",
    "            break\n",
    "    else:\n",
    "        raw_interpretation = \"I couldn't find this dream symbol in my database.\"\n",
    "\n",
    "    # Send to Groq for enhancement\n",
    "    system_instruction = (\n",
    "        \"You are a dream interpretation assistant. \"\n",
    "        \"Enhance the given dream meaning, make it engaging, and provide insightful details.\"\n",
    "    )\n",
    "\n",
    "    chat_completion = llm.chat.completions.create(  # Corrected function call\n",
    "        model=\"llama3-70b-8192\",  # Ensure correct model name\n",
    "        temperature=0.7,\n",
    "        max_tokens=512,\n",
    "        messages=[\n",
    "            {\"role\": \"system\", \"content\": system_instruction},\n",
    "            {\"role\": \"user\", \"content\": raw_interpretation},\n",
    "        ],\n",
    "    )\n",
    "\n",
    "    return chat_completion.choices[0].message.content  # Fixed content extraction\n",
    "\n",
    "# Chatbot loop\n",
    "while True:\n",
    "    user_dream = input(\"\\nWhat did you dream about? (or type 'exit' to quit): \")\n",
    "    if user_dream.lower() == \"exit\":\n",
    "        print(\"Goodbye! 🌙\")\n",
    "        break\n",
    "    print(\"\\n💭\", interpret_dream(user_dream))\n"
   ]
  },
  {
   "cell_type": "code",
   "execution_count": 34,
   "id": "bcda5fca-9cd7-4b53-9209-a2e7132b2f6b",
   "metadata": {},
   "outputs": [
    {
     "name": "stdin",
     "output_type": "stream",
     "text": [
      "Describe your dream:  child abuse\n"
     ]
    },
    {
     "name": "stdout",
     "output_type": "stream",
     "text": [
      "Interpretation: To dream you are abusing someone suggests that your past actions will come back to haunt you. You may be expressing some regret or remorse over your actions.\n"
     ]
    }
   ],
   "source": [
    "i json\n",
    "\n",
    "# Load dream interpretations from JSON\n",
    "with open(\"docs/dream_data.json\", \"r\") as f:\n",
    "    dream_data = json.load(f)\n",
    "\n",
    "# Function to find dream interpretation\n",
    "def interpret_dream(user_dream):\n",
    "    for entry in dream_data:\n",
    "        if entry[\"Dream Symbol\"].lower() in user_dream.lower():\n",
    "            return f\"Interpretation: {entry['Interpretation']}\"\n",
    "    return \"Sorry, I couldn't find an interpretation for your dream.\"\n",
    "\n",
    "# Example usage\n",
    "user_dream = input(\"Describe your dream: \")\n",
    "print(interpret_dream(user_dream))"
   ]
  },
  {
   "cell_type": "code",
   "execution_count": 2,
   "id": "cd7768ff-82e2-4e58-8f66-dd76da7c563e",
   "metadata": {},
   "outputs": [
    {
     "name": "stdout",
     "output_type": "stream",
     "text": [
      "zsh:1: command not found: pip\n"
     ]
    }
   ],
   "source": [
    "!pip install streamlit spacy flask\n",
    "\n"
   ]
  },
  {
   "cell_type": "code",
   "execution_count": 50,
   "id": "a5d7ebbd-727c-48f0-a233-9974d908ec01",
   "metadata": {},
   "outputs": [
    {
     "name": "stdin",
     "output_type": "stream",
     "text": [
      "\n",
      "What did you dream about?  i did abortion\n"
     ]
    },
    {
     "name": "stdout",
     "output_type": "stream",
     "text": [
      "\n",
      "💭 Wow, thank you for sharing that with me! It takes a lot of courage to explore our dreams, especially when they touch on sensitive topics like abortion.\n",
      "\n",
      "So, it seems like you've already looked into the possible meaning of your dream, and it's interesting that you've found a few different interpretations. Let's dive a bit deeper into this, shall we?\n",
      "\n",
      "The idea that you might be hindering your own growth is really interesting. Are there any areas in your life where you feel like you're holding back or not pursuing a new direction because of fear, pressure, or personal conflict? Perhaps there's something that's been nagging at you, but you haven't taken the leap yet?\n",
      "\n",
      "And I'm curious, have you had a real-life experience with abortion that might be connected to this dream? Sometimes our dreams can be a way for our minds to process and heal from traumatic events.\n",
      "\n",
      "Lastly, the idea that the dream might be a message to take care of your health is really important. Have you been feeling overwhelmed or neglecting your physical or emotional well-being lately?\n",
      "\n",
      "Let's explore this further! What do you think might be the most relevant connection to your waking life?\n"
     ]
    }
   ],
   "source": [
    "import os\n",
    "import json\n",
    "from groq import Groq\n",
    "from difflib import get_close_matches  # For fuzzy matching\n",
    "\n",
    "# Securely load API key\n",
    "with open(\"groq_api_key.txt\", \"r\") as f:\n",
    "    groq_api_key = f.read().strip()\n",
    "\n",
    "# Initialize Groq API\n",
    "llm = Groq(api_key=groq_api_key)\n",
    "\n",
    "# Load dream interpretation data\n",
    "with open(\"docs/dream_data.json\", \"r\") as f:\n",
    "    dream_data = json.load(f)\n",
    "\n",
    "# Extract all dream symbols from the dataset\n",
    "dream_symbols = [entry[\"Dream Symbol\"].lower() for entry in dream_data]\n",
    "\n",
    "def find_closest_match(user_input):\n",
    "    \"\"\"Finds the closest matching dream symbol from the dataset.\"\"\"\n",
    "    matches = get_close_matches(user_input.lower(), dream_symbols, n=1, cutoff=0.6)\n",
    "    return matches[0] if matches else None\n",
    "\n",
    "def interpret_dream(user_input):\n",
    "    \"\"\"Finds the dream interpretation and creates an interactive response using Groq API.\"\"\"\n",
    "    match = find_closest_match(user_input)\n",
    "\n",
    "    if match:\n",
    "        for entry in dream_data:\n",
    "            if match == entry[\"Dream Symbol\"].lower():\n",
    "                raw_interpretation = entry[\"Interpretation\"]\n",
    "                break\n",
    "    else:\n",
    "        raw_interpretation = \"I couldn't find this dream symbol in my database, but let's explore what it might mean!\"\n",
    "\n",
    "    # Groq-enhanced response for interactivity\n",
    "    system_instruction = (\n",
    "        \"You are an interactive dream analysis assistant. \"\n",
    "        \"Respond as if you're having a conversation with the user. \"\n",
    "        \"Use an engaging, friendly, and curious tone. \"\n",
    "        \"If a dream meaning is found, explain it in a captivating way. \"\n",
    "        \"If not found, speculate on its meaning and ask an engaging follow-up question.\"\n",
    "    )\n",
    "\n",
    "    response = llm.chat.completions.create(\n",
    "        model=\"llama3-70b-8192\",\n",
    "        temperature=0.9,  # Increased for a more dynamic response\n",
    "        max_tokens=512,\n",
    "        messages=[\n",
    "            {\"role\": \"system\", \"content\": system_instruction},\n",
    "            {\"role\": \"user\", \"content\": f\"I had a dream about {user_input}. {raw_interpretation}\"},\n",
    "        ],\n",
    "    )\n",
    "\n",
    "    return response.choices[0].message.content if response.choices else \"Error processing response.\"\n",
    "\n",
    "# Get user input once and provide an interactive response\n",
    "user_dream = input(\"\\nWhat did you dream about? \")\n",
    "response = interpret_dream(user_dream)\n",
    "\n",
    "print(\"\\n💭\", response)\n"
   ]
  },
  {
   "cell_type": "code",
   "execution_count": null,
   "id": "70c1c85d-4b42-4f11-b12d-e5933aeb961e",
   "metadata": {},
   "outputs": [],
   "source": []
  }
 ],
 "metadata": {
  "kernelspec": {
   "display_name": "Python [conda env:base] *",
   "language": "python",
   "name": "conda-base-py"
  },
  "language_info": {
   "codemirror_mode": {
    "name": "ipython",
    "version": 3
   },
   "file_extension": ".py",
   "mimetype": "text/x-python",
   "name": "python",
   "nbconvert_exporter": "python",
   "pygments_lexer": "ipython3",
   "version": "3.12.7"
  }
 },
 "nbformat": 4,
 "nbformat_minor": 5
}
